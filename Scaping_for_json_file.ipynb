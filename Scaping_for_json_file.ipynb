{
 "cells": [
  {
   "cell_type": "code",
   "execution_count": 14,
   "metadata": {},
   "outputs": [],
   "source": [
    "# Dependencies\n",
    "import requests\n",
    "import json\n",
    "import math\n",
    "import pandas as pd"
   ]
  },
  {
   "cell_type": "code",
   "execution_count": 15,
   "metadata": {},
   "outputs": [],
   "source": [
    "# Base API endpoint\n",
    "base_url = \"https://api.openbrewerydb.org/breweries\"\n",
    "\n",
    "# Metadata values\n",
    "total_breweries = 8211\n",
    "per_page = 50\n",
    "total_pages = math.ceil(total_breweries / per_page)\n",
    "\n",
    "all_breweries = []\n",
    "\n",
    "# Loop through all pages and fetch the data\n",
    "for page in range(1, total_pages + 1):\n",
    "    response = requests.get(base_url, params={\"page\": page, \"per_page\": per_page})\n",
    "    data = response.json()\n",
    "    all_breweries.extend(data)\n",
    "\n",
    "# Save the data to a JSON file\n",
    "with open(\"breweries.json\", \"w\") as file:\n",
    "    json.dump(all_breweries, file)\n",
    "\n",
    "print(\"Data fetched and saved to breweries.json\")"
   ]
  }
 ],
 "metadata": {
  "kernelspec": {
   "display_name": "Python 3 (ipykernel)",
   "language": "python",
   "name": "python3"
  },
  "language_info": {
   "codemirror_mode": {
    "name": "ipython",
    "version": 3
   },
   "file_extension": ".py",
   "mimetype": "text/x-python",
   "name": "python",
   "nbconvert_exporter": "python",
   "pygments_lexer": "ipython3",
   "version": "3.10.11"
  },
  "varInspector": {
   "cols": {
    "lenName": 16,
    "lenType": 16,
    "lenVar": 40
   },
   "kernels_config": {
    "python": {
     "delete_cmd_postfix": "",
     "delete_cmd_prefix": "del ",
     "library": "var_list.py",
     "varRefreshCmd": "print(var_dic_list())"
    },
    "r": {
     "delete_cmd_postfix": ") ",
     "delete_cmd_prefix": "rm(",
     "library": "var_list.r",
     "varRefreshCmd": "cat(var_dic_list()) "
    }
   },
   "types_to_exclude": [
    "module",
    "function",
    "builtin_function_or_method",
    "instance",
    "_Feature"
   ],
   "window_display": false
  }
 },
 "nbformat": 4,
 "nbformat_minor": 2
}
